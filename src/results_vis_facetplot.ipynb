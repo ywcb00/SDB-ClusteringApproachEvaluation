{
 "cells": [
  {
   "attachments": {},
   "cell_type": "markdown",
   "metadata": {},
   "source": [
    "# Result Visualization"
   ]
  },
  {
   "cell_type": "code",
   "execution_count": 2,
   "metadata": {},
   "outputs": [],
   "source": [
    "import pandas as pd\n",
    "from pathlib import Path"
   ]
  },
  {
   "attachments": {},
   "cell_type": "markdown",
   "metadata": {},
   "source": [
    "Defines, Constants and Helper Functions"
   ]
  },
  {
   "cell_type": "code",
   "execution_count": 3,
   "metadata": {},
   "outputs": [],
   "source": [
    "DATASET_DIR_NAMES = [\"REAL1\", \"REAL2\", \"SYNTH1\", \"SYNTH2\"]\n",
    "ALGORITHM_DIR_NAMES = [\"DBSCAN\", \"KMEANS\"]\n",
    "APPROACH_DIR_NAMES = ['GIS', 'ML', 'SDB']\n",
    "RUNTIME_DIR_PREFIX = 'perf_'\n",
    "\n",
    "RESULTS_PATH = Path(\"../results\")\n"
   ]
  },
  {
   "cell_type": "code",
   "execution_count": null,
   "metadata": {},
   "outputs": [],
   "source": [
    "def read_perf_data(prefix: str) -> pd.DataFrame:\n",
    "  results_df = pd.DataFrame(columns=['dataset', 'algorithm', 'n'])\n",
    "  for data\n",
    "  pass"
   ]
  },
  {
   "attachments": {},
   "cell_type": "markdown",
   "metadata": {},
   "source": [
    "## Runtime Performance"
   ]
  },
  {
   "cell_type": "code",
   "execution_count": null,
   "metadata": {},
   "outputs": [],
   "source": [
    "RESULTS_PATH / \n"
   ]
  }
 ],
 "metadata": {
  "kernelspec": {
   "display_name": ".venv",
   "language": "python",
   "name": "python3"
  },
  "language_info": {
   "codemirror_mode": {
    "name": "ipython",
    "version": 3
   },
   "file_extension": ".py",
   "mimetype": "text/x-python",
   "name": "python",
   "nbconvert_exporter": "python",
   "pygments_lexer": "ipython3",
   "version": "3.10.9"
  },
  "orig_nbformat": 4,
  "vscode": {
   "interpreter": {
    "hash": "1a142a74f4d998de6c54cdcbbea09d52c2d77fee82f87570925f50f5744943fc"
   }
  }
 },
 "nbformat": 4,
 "nbformat_minor": 2
}
